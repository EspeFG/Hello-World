{
 "cells": [
  {
   "cell_type": "code",
   "execution_count": 1,
   "metadata": {
    "collapsed": false
   },
   "outputs": [],
   "source": [
    "import pandas as pd\n",
    "import random"
   ]
  },
  {
   "cell_type": "code",
   "execution_count": 2,
   "metadata": {
    "collapsed": true
   },
   "outputs": [],
   "source": [
    "df = pd.read_csv('data.csv')"
   ]
  },
  {
   "cell_type": "code",
   "execution_count": 3,
   "metadata": {
    "collapsed": false
   },
   "outputs": [
    {
     "data": {
      "text/html": [
       "<div>\n",
       "<table border=\"1\" class=\"dataframe\">\n",
       "  <thead>\n",
       "    <tr style=\"text-align: right;\">\n",
       "      <th></th>\n",
       "      <th>Text</th>\n",
       "      <th>Date</th>\n",
       "      <th>Favorites</th>\n",
       "      <th>Retweets</th>\n",
       "      <th>Tweet ID</th>\n",
       "    </tr>\n",
       "  </thead>\n",
       "  <tbody>\n",
       "    <tr>\n",
       "      <th>0</th>\n",
       "      <td>I have not heard any of the pundits or comment...</td>\n",
       "      <td>2016-12-21 13:29:38</td>\n",
       "      <td>14755</td>\n",
       "      <td>4055</td>\n",
       "      <td>811564284706689024</td>\n",
       "    </tr>\n",
       "    <tr>\n",
       "      <th>1</th>\n",
       "      <td>I would have done even better in the election,...</td>\n",
       "      <td>2016-12-21 13:24:29</td>\n",
       "      <td>11129</td>\n",
       "      <td>2789</td>\n",
       "      <td>811562990285848576</td>\n",
       "    </tr>\n",
       "    <tr>\n",
       "      <th>2</th>\n",
       "      <td>Campaigning to win the Electoral College is mu...</td>\n",
       "      <td>2016-12-21 13:15:14</td>\n",
       "      <td>14906</td>\n",
       "      <td>3925</td>\n",
       "      <td>811560662853939200</td>\n",
       "    </tr>\n",
       "    <tr>\n",
       "      <th>3</th>\n",
       "      <td>Yes, it is true - Carlos Slim, the great busin...</td>\n",
       "      <td>2016-12-20 20:27:57</td>\n",
       "      <td>51424</td>\n",
       "      <td>12578</td>\n",
       "      <td>811307169043849216</td>\n",
       "    </tr>\n",
       "    <tr>\n",
       "      <th>4</th>\n",
       "      <td>especially how to get people, even with an unl...</td>\n",
       "      <td>2016-12-20 13:09:18</td>\n",
       "      <td>35699</td>\n",
       "      <td>8008</td>\n",
       "      <td>811196778779463684</td>\n",
       "    </tr>\n",
       "  </tbody>\n",
       "</table>\n",
       "</div>"
      ],
      "text/plain": [
       "                                                Text                 Date  \\\n",
       "0  I have not heard any of the pundits or comment...  2016-12-21 13:29:38   \n",
       "1  I would have done even better in the election,...  2016-12-21 13:24:29   \n",
       "2  Campaigning to win the Electoral College is mu...  2016-12-21 13:15:14   \n",
       "3  Yes, it is true - Carlos Slim, the great busin...  2016-12-20 20:27:57   \n",
       "4  especially how to get people, even with an unl...  2016-12-20 13:09:18   \n",
       "\n",
       "   Favorites  Retweets            Tweet ID  \n",
       "0      14755      4055  811564284706689024  \n",
       "1      11129      2789  811562990285848576  \n",
       "2      14906      3925  811560662853939200  \n",
       "3      51424     12578  811307169043849216  \n",
       "4      35699      8008  811196778779463684  "
      ]
     },
     "execution_count": 3,
     "metadata": {},
     "output_type": "execute_result"
    }
   ],
   "source": [
    "df.head()"
   ]
  },
  {
   "cell_type": "code",
   "execution_count": 13,
   "metadata": {
    "collapsed": false
   },
   "outputs": [],
   "source": [
    "df['Text'] = df.Text.str.replace('\"', '')\n",
    "df['tagged_text'] = 'BEGIN HERE ' + df.Text + ' END'"
   ]
  },
  {
   "cell_type": "code",
   "execution_count": 14,
   "metadata": {
    "collapsed": false
   },
   "outputs": [
    {
     "data": {
      "text/html": [
       "<div>\n",
       "<table border=\"1\" class=\"dataframe\">\n",
       "  <thead>\n",
       "    <tr style=\"text-align: right;\">\n",
       "      <th></th>\n",
       "      <th>Text</th>\n",
       "      <th>Date</th>\n",
       "      <th>Favorites</th>\n",
       "      <th>Retweets</th>\n",
       "      <th>Tweet ID</th>\n",
       "      <th>tagged_text</th>\n",
       "    </tr>\n",
       "  </thead>\n",
       "  <tbody>\n",
       "    <tr>\n",
       "      <th>0</th>\n",
       "      <td>I have not heard any of the pundits or comment...</td>\n",
       "      <td>2016-12-21 13:29:38</td>\n",
       "      <td>14755</td>\n",
       "      <td>4055</td>\n",
       "      <td>811564284706689024</td>\n",
       "      <td>BEGIN HERE I have not heard any of the pundits...</td>\n",
       "    </tr>\n",
       "    <tr>\n",
       "      <th>1</th>\n",
       "      <td>I would have done even better in the election,...</td>\n",
       "      <td>2016-12-21 13:24:29</td>\n",
       "      <td>11129</td>\n",
       "      <td>2789</td>\n",
       "      <td>811562990285848576</td>\n",
       "      <td>BEGIN HERE I would have done even better in th...</td>\n",
       "    </tr>\n",
       "    <tr>\n",
       "      <th>2</th>\n",
       "      <td>Campaigning to win the Electoral College is mu...</td>\n",
       "      <td>2016-12-21 13:15:14</td>\n",
       "      <td>14906</td>\n",
       "      <td>3925</td>\n",
       "      <td>811560662853939200</td>\n",
       "      <td>BEGIN HERE Campaigning to win the Electoral Co...</td>\n",
       "    </tr>\n",
       "    <tr>\n",
       "      <th>3</th>\n",
       "      <td>Yes, it is true - Carlos Slim, the great busin...</td>\n",
       "      <td>2016-12-20 20:27:57</td>\n",
       "      <td>51424</td>\n",
       "      <td>12578</td>\n",
       "      <td>811307169043849216</td>\n",
       "      <td>BEGIN HERE Yes, it is true - Carlos Slim, the ...</td>\n",
       "    </tr>\n",
       "    <tr>\n",
       "      <th>4</th>\n",
       "      <td>especially how to get people, even with an unl...</td>\n",
       "      <td>2016-12-20 13:09:18</td>\n",
       "      <td>35699</td>\n",
       "      <td>8008</td>\n",
       "      <td>811196778779463684</td>\n",
       "      <td>BEGIN HERE especially how to get people, even ...</td>\n",
       "    </tr>\n",
       "  </tbody>\n",
       "</table>\n",
       "</div>"
      ],
      "text/plain": [
       "                                                Text                 Date  \\\n",
       "0  I have not heard any of the pundits or comment...  2016-12-21 13:29:38   \n",
       "1  I would have done even better in the election,...  2016-12-21 13:24:29   \n",
       "2  Campaigning to win the Electoral College is mu...  2016-12-21 13:15:14   \n",
       "3  Yes, it is true - Carlos Slim, the great busin...  2016-12-20 20:27:57   \n",
       "4  especially how to get people, even with an unl...  2016-12-20 13:09:18   \n",
       "\n",
       "   Favorites  Retweets            Tweet ID  \\\n",
       "0      14755      4055  811564284706689024   \n",
       "1      11129      2789  811562990285848576   \n",
       "2      14906      3925  811560662853939200   \n",
       "3      51424     12578  811307169043849216   \n",
       "4      35699      8008  811196778779463684   \n",
       "\n",
       "                                         tagged_text  \n",
       "0  BEGIN HERE I have not heard any of the pundits...  \n",
       "1  BEGIN HERE I would have done even better in th...  \n",
       "2  BEGIN HERE Campaigning to win the Electoral Co...  \n",
       "3  BEGIN HERE Yes, it is true - Carlos Slim, the ...  \n",
       "4  BEGIN HERE especially how to get people, even ...  "
      ]
     },
     "execution_count": 14,
     "metadata": {},
     "output_type": "execute_result"
    }
   ],
   "source": [
    "df.head()"
   ]
  },
  {
   "cell_type": "code",
   "execution_count": 15,
   "metadata": {
    "collapsed": false
   },
   "outputs": [
    {
     "data": {
      "text/plain": [
       "(31175, 6)"
      ]
     },
     "execution_count": 15,
     "metadata": {},
     "output_type": "execute_result"
    }
   ],
   "source": [
    "df.shape"
   ]
  },
  {
   "cell_type": "code",
   "execution_count": 22,
   "metadata": {
    "collapsed": true
   },
   "outputs": [],
   "source": [
    "def generate_tetragram(words):\n",
    "    if len(words) < 4:\n",
    "        return\n",
    "    for i in range(len(words)-2):\n",
    "        yield(words[i], words[i+1], words[i+2])\n",
    "\n",
    "def generate_model_words(series):\n",
    "    model = {}\n",
    "    for tweet in series:\n",
    "        if type(tweet) is not str:\n",
    "            continue\n",
    "        words = tweet.split()\n",
    "        for word1, word2, word3 in generate_trigram(words):\n",
    "            key = (word1, word2)\n",
    "            if key not in model:\n",
    "                model[key] = {}\n",
    "            if word3 not in model[key]:\n",
    "                model[key][word3] = 1\n",
    "            else:\n",
    "                model[key][word3] += 1\n",
    "    return(model)\n",
    "\n",
    "def get_next_word(word_dict):\n",
    "    words = []\n",
    "    for word in word_dict.keys():\n",
    "        for freq in range(word_dict[word]):\n",
    "            words.append(word)\n",
    "    return random.choice(words)   \n",
    "\n",
    "def generate_tweet_words(model):\n",
    "    new_tweet = []\n",
    "    word1 = 'BEGIN'\n",
    "    word2 = 'HERE'\n",
    "\n",
    "    while True:\n",
    "        word1, word2 = word2, get_next_word(model[(word1,word2)])\n",
    "        if word2 == 'END':\n",
    "            break\n",
    "        new_tweet.append(word2)\n",
    "\n",
    "    return(' '.join(new_tweet))"
   ]
  },
  {
   "cell_type": "code",
   "execution_count": 23,
   "metadata": {
    "collapsed": false
   },
   "outputs": [
    {
     "name": "stdout",
     "output_type": "stream",
     "text": [
      "Wow, Vanity Fair was totally shut out at 6 PM in #TrumpTower in NYC. What the hell are you crazy!\n",
      "---\n",
      "The Trans-Pacific Partnership will increase the $5M check for dishonest reporting. Always looking for free this summer and meet them. The proof is in turmoil right now!\n",
      "---\n",
      "As a big 13 point lead in national poll released. Join the MOVEMENT! Tickets available at: https://www.donaldjtrump.com/schedule/register/roanoke-va1/ …pic.twitter.com/p3RyWOmHfs\n",
      "---\n",
      "@007lLisav: @CNN @realDonaldTrump keep you're momentum until you see when I see you there!\n",
      "---\n",
      "Lithium ion batteries should not have!\n",
      "---\n",
      "Thank you South Carolina! #MakeAmericaGreatAgain #SCPrimarypic.twitter.com/FgACmaFxxc\n",
      "---\n",
      "@Tuvarkz: @realDonaldTrump Can't wait to build a wall like Trump!\n",
      "---\n",
      "Our country is planning to stab (Bob was saved from destruction is if @realDonaldTrump runs for president better than that!\n",
      "---\n",
      "@krdevine: @realDonaldTrump very true article, “Total Desperation on Iran” http://spectator.org/articles/62423/exclusive-trump-says-obama-shows-%E2%80%98total-desperation%E2%80%99-iran …\n",
      "---\n",
      "Via @Scottish Sun, Thrilled Neale's first hole in Don http://bit.ly/Nm7nfI Great shot by @KingJames yesterday. Lebron is a “conniving witch”—is he surprised? Are we still should have only one person that Hillary will approve the Keystone pipeline. What about the disaster known as ObamaCare will be a visionary you have so far tonight. Does not have been very consistent and always said the Keysyone pipeline was not so much more beautiful than @IvankaTrump! She is a very bad word. I never get y people hate you. It's now or never! We need a wall! Let's Make America Great Again!\n",
      "---\n"
     ]
    }
   ],
   "source": [
    "model = generate_model_words(df.tagged_text)\n",
    "\n",
    "for i in range(10):\n",
    "    print(generate_tweet_words(model))\n",
    "    print('---')"
   ]
  },
  {
   "cell_type": "code",
   "execution_count": null,
   "metadata": {
    "collapsed": true
   },
   "outputs": [],
   "source": []
  }
 ],
 "metadata": {
  "kernelspec": {
   "display_name": "Python 3",
   "language": "python",
   "name": "python3"
  },
  "language_info": {
   "codemirror_mode": {
    "name": "ipython",
    "version": 3
   },
   "file_extension": ".py",
   "mimetype": "text/x-python",
   "name": "python",
   "nbconvert_exporter": "python",
   "pygments_lexer": "ipython3",
   "version": "3.6.0"
  }
 },
 "nbformat": 4,
 "nbformat_minor": 2
}
